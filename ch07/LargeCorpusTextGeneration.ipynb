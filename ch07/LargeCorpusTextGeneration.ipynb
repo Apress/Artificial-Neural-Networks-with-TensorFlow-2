{
  "nbformat": 4,
  "nbformat_minor": 0,
  "metadata": {
    "colab": {
      "name": "LargeCorpusTextGeneration.ipynb",
      "provenance": [],
      "collapsed_sections": [],
      "machine_shape": "hm"
    },
    "kernelspec": {
      "name": "python3",
      "display_name": "Python 3"
    },
    "accelerator": "GPU"
  },
  "cells": [
    {
      "cell_type": "code",
      "metadata": {
        "id": "Da5Xqd5TzJQp"
      },
      "source": [
        "import sys\n",
        "import requests\n",
        "import numpy as np\n",
        "import tensorflow as tf\n",
        "from tensorflow.keras import Sequential\n",
        "from tensorflow.keras.callbacks import ModelCheckpoint\n",
        "from tensorflow.keras.layers import Dense, Activation, Dropout, LSTM"
      ],
      "execution_count": null,
      "outputs": []
    },
    {
      "cell_type": "markdown",
      "metadata": {
        "id": "7EApVSRf5o9F"
      },
      "source": [
        "# Mount Google Drive for saving state at checkpoints"
      ]
    },
    {
      "cell_type": "code",
      "metadata": {
        "id": "T1BNIxFo4OUB",
        "outputId": "b6db74a4-4cb6-41e8-f9b6-ed8ac0c9f8a4",
        "colab": {
          "base_uri": "https://localhost:8080/",
          "height": 122
        }
      },
      "source": [
        "from google.colab import drive\n",
        "drive.mount('/content/drive')"
      ],
      "execution_count": null,
      "outputs": [
        {
          "output_type": "stream",
          "text": [
            "Go to this URL in a browser: https://accounts.google.com/o/oauth2/auth?client_id=947318989803-6bn6qk8qdgf4n4g3pfee6491hc0brc4i.apps.googleusercontent.com&redirect_uri=urn%3aietf%3awg%3aoauth%3a2.0%3aoob&response_type=code&scope=email%20https%3a%2f%2fwww.googleapis.com%2fauth%2fdocs.test%20https%3a%2f%2fwww.googleapis.com%2fauth%2fdrive%20https%3a%2f%2fwww.googleapis.com%2fauth%2fdrive.photos.readonly%20https%3a%2f%2fwww.googleapis.com%2fauth%2fpeopleapi.readonly\n",
            "\n",
            "Enter your authorization code:\n",
            "··········\n",
            "Mounted at /content/drive\n"
          ],
          "name": "stdout"
        }
      ]
    },
    {
      "cell_type": "code",
      "metadata": {
        "id": "zY5lFSLuVyBn",
        "outputId": "7fc93292-4b54-48cc-dc6c-a3a6d20cc831",
        "colab": {
          "base_uri": "https://localhost:8080/",
          "height": 34
        }
      },
      "source": [
        "cd '/content/drive/My Drive/TextGenerationDemo'"
      ],
      "execution_count": null,
      "outputs": [
        {
          "output_type": "stream",
          "text": [
            "/content/drive/My Drive/TextGenerationDemo\n"
          ],
          "name": "stdout"
        }
      ]
    },
    {
      "cell_type": "markdown",
      "metadata": {
        "id": "zOASWawo5xJU"
      },
      "source": [
        "# Load a large corpus of text"
      ]
    },
    {
      "cell_type": "code",
      "metadata": {
        "id": "fqghll3hzUtq"
      },
      "source": [
        "r = requests.get(\"https://cs.stanford.edu/people/karpathy/char-rnn/warpeace_input.txt\")"
      ],
      "execution_count": null,
      "outputs": []
    },
    {
      "cell_type": "code",
      "metadata": {
        "id": "O_T8yR2f5UDn"
      },
      "source": [
        "raw_txt = r.text"
      ],
      "execution_count": null,
      "outputs": []
    },
    {
      "cell_type": "code",
      "metadata": {
        "id": "D3fQCRMR4Y5Z",
        "outputId": "be432550-8b4f-498f-b695-54a3f2f2de90",
        "colab": {
          "base_uri": "https://localhost:8080/",
          "height": 51
        }
      },
      "source": [
        "chars = sorted(list(set(raw_txt)))\n",
        "print(\"Corpus: {}\".format(len(raw_txt)))\n",
        "print(\"Categories: {}\".format(len(chars)))"
      ],
      "execution_count": null,
      "outputs": [
        {
          "output_type": "stream",
          "text": [
            "Corpus: 3258246\n",
            "Categories: 87\n"
          ],
          "name": "stdout"
        }
      ]
    },
    {
      "cell_type": "markdown",
      "metadata": {
        "id": "AjQ4BTdO530O"
      },
      "source": [
        "# Create mappings"
      ]
    },
    {
      "cell_type": "code",
      "metadata": {
        "id": "HaHL8-FK8rvp"
      },
      "source": [
        "ix_to_char = {ix:char for ix, char in enumerate(chars)}\n",
        "char_to_ix = {char:ix for ix, char in enumerate(chars)}"
      ],
      "execution_count": null,
      "outputs": []
    },
    {
      "cell_type": "markdown",
      "metadata": {
        "id": "aLwg9t8T58qI"
      },
      "source": [
        "# Create training data"
      ]
    },
    {
      "cell_type": "code",
      "metadata": {
        "id": "ZJ3XmK7k9vi_",
        "outputId": "34646439-2a62-4f6e-fb15-084c445ab8f0",
        "colab": {
          "base_uri": "https://localhost:8080/",
          "height": 34
        }
      },
      "source": [
        "maxlen = 10\n",
        "x_data = []\n",
        "y_data = []\n",
        "for i in range(0, len(raw_txt) - maxlen, 1):\n",
        "    in_seq  = raw_txt[i: i + maxlen]\n",
        "    out_seq = raw_txt[i + maxlen]\n",
        "    x_data.append([char_to_ix[char] for char in in_seq])\n",
        "    y_data.append([char_to_ix[out_seq]])\n",
        "nb_chars = len(x_data)\n",
        "print('Number of sequences:', int(len(x_data)/maxlen))"
      ],
      "execution_count": null,
      "outputs": [
        {
          "output_type": "stream",
          "text": [
            "Number of sequences: 325823\n"
          ],
          "name": "stdout"
        }
      ]
    },
    {
      "cell_type": "code",
      "metadata": {
        "id": "WihHRtVOuZ-C"
      },
      "source": [
        "# scale and transform data\n",
        "x = np.reshape(x_data , (nb_chars , maxlen , 1))\n",
        "n_vocab = len(chars)\n",
        "x = x/float(n_vocab)"
      ],
      "execution_count": null,
      "outputs": []
    },
    {
      "cell_type": "code",
      "metadata": {
        "id": "c_xXlm6aMCvT",
        "outputId": "7e00e527-0fb6-4802-ce5d-68eb46331e70",
        "colab": {
          "base_uri": "https://localhost:8080/",
          "height": 34
        }
      },
      "source": [
        "x.shape"
      ],
      "execution_count": null,
      "outputs": [
        {
          "output_type": "execute_result",
          "data": {
            "text/plain": [
              "(3258236, 10, 1)"
            ]
          },
          "metadata": {
            "tags": []
          },
          "execution_count": 10
        }
      ]
    },
    {
      "cell_type": "markdown",
      "metadata": {
        "id": "YNUpVS_86ON7"
      },
      "source": [
        "# Treat categorical columns"
      ]
    },
    {
      "cell_type": "code",
      "metadata": {
        "id": "ijNzDlhjwvvq"
      },
      "source": [
        "y = tf.keras.utils.to_categorical(y_data)"
      ],
      "execution_count": null,
      "outputs": []
    },
    {
      "cell_type": "code",
      "metadata": {
        "id": "BspIW59vZugi",
        "outputId": "7a76a281-e234-4dcf-90b5-c0345161d1ab",
        "colab": {
          "base_uri": "https://localhost:8080/",
          "height": 51
        }
      },
      "source": [
        "print(\"The shape of x_training data : \" ,x.shape)\n",
        "print(\"The shape of y_training data : \" ,y.shape)"
      ],
      "execution_count": null,
      "outputs": [
        {
          "output_type": "stream",
          "text": [
            "The shape of x_training data :  (3258236, 10, 1)\n",
            "The shape of y_training data :  (3258236, 86)\n"
          ],
          "name": "stdout"
        }
      ]
    },
    {
      "cell_type": "markdown",
      "metadata": {
        "id": "OVCqDXl36Uil"
      },
      "source": [
        "# Define Model"
      ]
    },
    {
      "cell_type": "code",
      "metadata": {
        "id": "xMnDen6yyMHL"
      },
      "source": [
        "Model = tf.keras.Sequential([\n",
        "                             tf.keras.layers.LSTM(800 , input_shape = (len(x[1]) , 1) , \n",
        "                                                  return_sequences = True),\n",
        "                             tf.keras.layers.Dropout(0.2),\n",
        "                             tf.keras.layers.LSTM(800, return_sequences = True),\n",
        "                             tf.keras.layers.Dropout(0.2),\n",
        "                             tf.keras.layers.LSTM(800),\n",
        "                             tf.keras.layers.Dropout(0.2),\n",
        "                             tf.keras.layers.Dense(len(y[1]), activation = 'softmax')\n",
        "])"
      ],
      "execution_count": null,
      "outputs": []
    },
    {
      "cell_type": "code",
      "metadata": {
        "id": "V9ruFD520PHS"
      },
      "source": [
        "Model.compile(loss = 'categorical_crossentropy' , optimizer = 'adam')"
      ],
      "execution_count": null,
      "outputs": []
    },
    {
      "cell_type": "markdown",
      "metadata": {
        "id": "exlzwkMc7JiF"
      },
      "source": [
        "# Creating a checkpoint"
      ]
    },
    {
      "cell_type": "code",
      "metadata": {
        "id": "VyhwA9UV1MB5"
      },
      "source": [
        "filepath = \"model_weights_saved.hdf5\"\n",
        "checkpoint = ModelCheckpoint(filepath, monitor = 'loss', verbose = 1, save_best_only = True, mode = 'min')\n",
        "model_callbacks = [checkpoint]"
      ],
      "execution_count": null,
      "outputs": []
    },
    {
      "cell_type": "markdown",
      "metadata": {
        "id": "ALtQy5Wp7PW3"
      },
      "source": [
        "# Defining a custom callback"
      ]
    },
    {
      "cell_type": "code",
      "metadata": {
        "id": "GkHKNTQlCBIz"
      },
      "source": [
        "epoch_number = 0\n",
        "filename = 'predictions.txt'\n",
        "file = open(filename , 'w')\n",
        "file.truncate()\n",
        "file.close()\n",
        "class CustomCallback(tf.keras.callbacks.Callback):\n",
        "    \n",
        "    def on_epoch_end(self , epoch , logs = None):\n",
        "        global epoch_number\n",
        "        epoch_number = epoch_number + 1\n",
        "\n",
        "        filename = 'predictions.txt'\n",
        "        file = open(filename , 'a')\n",
        "        seed = \"looking fo\"\n",
        "      \n",
        "        pattern = []\n",
        "        for i in seed:\n",
        "            value = char_to_ix[i]\n",
        "            pattern.append(value)\n",
        "        file.seek(0)\n",
        "        file.write(\"\\n\\n Epoch number : {}\\n\\n\".format(epoch_number))\n",
        "        for i in range(100):      \n",
        "            X = np.reshape(pattern , (1, len(pattern) , 1))\n",
        "            X = X/float(n_vocab)\n",
        "            int_prediction = Model.predict(X , verbose = 0)\n",
        "            index = np.argmax(int_prediction)\n",
        "            prediction = ix_to_char[index]\n",
        "            sys.stdout.write(prediction)\n",
        "            file.write(prediction)\n",
        "            pattern.append(index)\n",
        "            pattern = pattern[1:len(pattern)]\n",
        "        file.close()"
      ],
      "execution_count": null,
      "outputs": []
    },
    {
      "cell_type": "markdown",
      "metadata": {
        "id": "kkO8f9OL7UvM"
      },
      "source": [
        "# Training"
      ]
    },
    {
      "cell_type": "code",
      "metadata": {
        "id": "EJIzc0-J09Eh"
      },
      "source": [
        "Model.fit(x, y , batch_size = 2000, epochs = 10 , callbacks = [CustomCallback() , model_callbacks])"
      ],
      "execution_count": null,
      "outputs": []
    },
    {
      "cell_type": "markdown",
      "metadata": {
        "id": "ykFQIs997YpV"
      },
      "source": [
        "### For rerun from a known checkpoint use following code"
      ]
    },
    {
      "cell_type": "code",
      "metadata": {
        "id": "juEi9k1-YPyt"
      },
      "source": [
        "try:\n",
        "    Model.load_weights(filepath)\n",
        "except Exception as error:\n",
        "    print(\"Error loading in model : {}\".format(error))"
      ],
      "execution_count": null,
      "outputs": []
    },
    {
      "cell_type": "code",
      "metadata": {
        "id": "FYKLbQR6YS89"
      },
      "source": [
        "Model.fit(x, y , batch_size = 2000, epochs = 25 , callbacks = [CustomCallback() , model_callbacks])"
      ],
      "execution_count": null,
      "outputs": []
    }
  ]
}